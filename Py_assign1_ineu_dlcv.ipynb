{
  "nbformat": 4,
  "nbformat_minor": 0,
  "metadata": {
    "colab": {
      "name": "Py -assign1 ineu dlcv.ipynb",
      "provenance": []
    },
    "kernelspec": {
      "name": "python3",
      "display_name": "Python 3"
    }
  },
  "cells": [
    {
      "cell_type": "code",
      "metadata": {
        "id": "aHj1hDoq9TeG",
        "outputId": "d9b60fd8-b139-4740-e924-0537b5c60797",
        "colab": {
          "base_uri": "https://localhost:8080/",
          "height": 54
        }
      },
      "source": [
        "\"\"\"\n",
        "1. Write a program which will find all such numbers which are divisible by 7 but are not a\n",
        "multiple of 5, between 2000 and 3200 (both included). The numbers obtained should be printed\n",
        "in a comma-separated sequence on a single line.\n",
        "\"\"\"\n",
        "values =[]\n",
        "for i in range(2000,3201):\n",
        "  if i%7 == 0 and i%5 != 0  :\n",
        "    values.append(i)\n",
        "\n",
        "print(','.join([str(elem) for elem in values]))\n",
        "# values = str(values)[1:-1]\n",
        "# print(values)\n",
        "\n"
      ],
      "execution_count": 20,
      "outputs": [
        {
          "output_type": "stream",
          "text": [
            "2002,2009,2016,2023,2037,2044,2051,2058,2072,2079,2086,2093,2107,2114,2121,2128,2142,2149,2156,2163,2177,2184,2191,2198,2212,2219,2226,2233,2247,2254,2261,2268,2282,2289,2296,2303,2317,2324,2331,2338,2352,2359,2366,2373,2387,2394,2401,2408,2422,2429,2436,2443,2457,2464,2471,2478,2492,2499,2506,2513,2527,2534,2541,2548,2562,2569,2576,2583,2597,2604,2611,2618,2632,2639,2646,2653,2667,2674,2681,2688,2702,2709,2716,2723,2737,2744,2751,2758,2772,2779,2786,2793,2807,2814,2821,2828,2842,2849,2856,2863,2877,2884,2891,2898,2912,2919,2926,2933,2947,2954,2961,2968,2982,2989,2996,3003,3017,3024,3031,3038,3052,3059,3066,3073,3087,3094,3101,3108,3122,3129,3136,3143,3157,3164,3171,3178,3192,3199\n"
          ],
          "name": "stdout"
        }
      ]
    },
    {
      "cell_type": "code",
      "metadata": {
        "id": "azSp4kGB-Lca",
        "outputId": "a17184a5-ab1c-4cb3-cd32-44a319f65121",
        "colab": {
          "base_uri": "https://localhost:8080/",
          "height": 69
        }
      },
      "source": [
        "\"\"\"\n",
        "2. Write a Python program to accept the user's first and last name and then getting them\n",
        "printed in the the reverse order with a space between first name and last name.\n",
        "\"\"\"\n",
        "\n",
        "first = input('enter your first name : ')\n",
        "last = input('enter your last name : ')\n",
        "print(f\"{first[::-1]} {last[::-1]}\")  "
      ],
      "execution_count": 22,
      "outputs": [
        {
          "output_type": "stream",
          "text": [
            "enter your first name : raj\n",
            "enter your last name : malhotra\n",
            "jar artohlam\n"
          ],
          "name": "stdout"
        }
      ]
    },
    {
      "cell_type": "code",
      "metadata": {
        "id": "sYDAquWZ_Ow3",
        "outputId": "82fb2270-5372-41bb-c8c2-2a4ecf5b534c",
        "colab": {
          "base_uri": "https://localhost:8080/",
          "height": 34
        }
      },
      "source": [
        "\"\"\"\n",
        "3. Write a Python program to find the volume of a sphere with diameter 12 cm.\n",
        "Formula: V=4/3 * π * r\n",
        "\"\"\"\n",
        "import math\n",
        "d= 12\n",
        "v = (4/3) * math.pi * ((d/2)**3)\n",
        "print(f\"Volume of the sphere is : {v}\")\n"
      ],
      "execution_count": 23,
      "outputs": [
        {
          "output_type": "stream",
          "text": [
            "Volume of the sphere is : 904.7786842338603\n"
          ],
          "name": "stdout"
        }
      ]
    }
  ]
}